{
 "cells": [
  {
   "cell_type": "markdown",
   "metadata": {},
   "source": [
    "# Introduction"
   ]
  },
  {
   "cell_type": "markdown",
   "metadata": {},
   "source": [
    "## Background\n",
    "### Toronto is the most popular and most populated city in Canada, located in the Canadian province of Ontario. It has a population of 2,731,571, which is 1,026,877, approximately 60% higher than Montreal (the Canadian city with the second-highest population). On the other hand, with a population of roughly 8,175,133 people, New York City is the most populated city in the USA. There are five boroughs of New York: The Bronx, Brooklyn, Manhattan, Queens, and Staten Island. Of the five boroughs, Manhattan is the most popular of the five boroughs and serves as the financial capital of the USA.\n",
    "### Each year, hundreds of thousands of people migrate to Canada yearly, and the United States of America (USA) is one of the top 5 origins of these immigrants[1]. Most of these immigrants settle in the province of Ontario. [2] The Ontarian city in which most immigrants settle in Toronto. Immigrants migrating from the USA and ending in Toronto may be doing so for a variety of reasons such as work, schooling, and family reunification.\n",
    "\n",
    "## Problem\n",
    "### Many immigrants in Canada are looking for neighborhoods similar to their old neighbourhood when looking for a home. For example, a family with kids migrating from one neighbourhood to another may want to ensure there are similarly good parks and playgrounds in the new neighbourhood. Also, a young person relocating for a job opportunity may wish to enjoy bars and clubs in the new city as they did in the old town. It would be helpful if we can identify neighborhoods in Toronto that are like an immigrant’s neighbourhood of origin. This information would assist real estate agents in targeting immigrants moving from a given region. Ultimately, real estate agents would be better able to recommend them homes for rent/sale in neighborhoods that suit them based on their previous neighbourhood. In this report, we will be reviewing immigrants migrating from Manhattan to Toronto.\n",
    "\n",
    "## Interest\n",
    "### This information would be of interest to real estate agents looking to market the sale of homes to individuals settling into Toronto after migrating from Manhattan. Knowing neighbourhoods in Toronto that are similar to specific communities in Manhattan can help real estate agents better serve their clients (in this case, the immigrant).\n",
    "### Also note that, although this analysis is done on Manhattan and Toronto data, the study can also be replicated in other cities."
   ]
  },
  {
   "cell_type": "code",
   "execution_count": null,
   "metadata": {},
   "outputs": [],
   "source": [
    "# Data"
   ]
  }
 ],
 "metadata": {
  "kernelspec": {
   "display_name": "Python",
   "language": "python",
   "name": "conda-env-python-py"
  },
  "language_info": {
   "codemirror_mode": {
    "name": "ipython",
    "version": 3
   },
   "file_extension": ".py",
   "mimetype": "text/x-python",
   "name": "python",
   "nbconvert_exporter": "python",
   "pygments_lexer": "ipython3",
   "version": "3.6.7"
  }
 },
 "nbformat": 4,
 "nbformat_minor": 4
}
